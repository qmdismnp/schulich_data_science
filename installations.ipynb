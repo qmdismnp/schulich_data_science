{
 "cells": [
  {
   "cell_type": "code",
   "execution_count": 1,
   "metadata": {},
   "outputs": [
    {
     "name": "stdout",
     "output_type": "stream",
     "text": [
      "Defaulting to user installation because normal site-packages is not writeable\n",
      "Requirement already satisfied: pandas in /Users/huiyisang/Library/Python/3.7/lib/python/site-packages (1.3.5)\n",
      "Requirement already satisfied: numpy in /Users/huiyisang/Library/Python/3.7/lib/python/site-packages (1.21.6)\n",
      "Requirement already satisfied: matplotlib in /Users/huiyisang/Library/Python/3.7/lib/python/site-packages (3.5.3)\n",
      "Requirement already satisfied: seaborn in /Users/huiyisang/Library/Python/3.7/lib/python/site-packages (0.12.2)\n",
      "Requirement already satisfied: scikit-learn in /Users/huiyisang/Library/Python/3.7/lib/python/site-packages (1.0.2)\n",
      "Requirement already satisfied: python-dateutil>=2.7.3 in /Users/huiyisang/Library/Python/3.7/lib/python/site-packages (from pandas) (2.8.2)\n",
      "Requirement already satisfied: pytz>=2017.3 in /Users/huiyisang/Library/Python/3.7/lib/python/site-packages (from pandas) (2023.3)\n",
      "Requirement already satisfied: cycler>=0.10 in /Users/huiyisang/Library/Python/3.7/lib/python/site-packages (from matplotlib) (0.11.0)\n",
      "Requirement already satisfied: fonttools>=4.22.0 in /Users/huiyisang/Library/Python/3.7/lib/python/site-packages (from matplotlib) (4.38.0)\n",
      "Requirement already satisfied: kiwisolver>=1.0.1 in /Users/huiyisang/Library/Python/3.7/lib/python/site-packages (from matplotlib) (1.4.5)\n",
      "Requirement already satisfied: packaging>=20.0 in /Users/huiyisang/Library/Python/3.7/lib/python/site-packages (from matplotlib) (23.1)\n",
      "Requirement already satisfied: pillow>=6.2.0 in /Users/huiyisang/Library/Python/3.7/lib/python/site-packages (from matplotlib) (9.5.0)\n",
      "Requirement already satisfied: pyparsing>=2.2.1 in /Users/huiyisang/Library/Python/3.7/lib/python/site-packages (from matplotlib) (3.1.2)\n",
      "Requirement already satisfied: typing_extensions in /Users/huiyisang/Library/Python/3.7/lib/python/site-packages (from seaborn) (4.7.1)\n",
      "Requirement already satisfied: scipy>=1.1.0 in /Users/huiyisang/Library/Python/3.7/lib/python/site-packages (from scikit-learn) (1.7.3)\n",
      "Requirement already satisfied: joblib>=0.11 in /Users/huiyisang/Library/Python/3.7/lib/python/site-packages (from scikit-learn) (1.3.2)\n",
      "Requirement already satisfied: threadpoolctl>=2.0.0 in /Users/huiyisang/Library/Python/3.7/lib/python/site-packages (from scikit-learn) (3.1.0)\n",
      "Requirement already satisfied: six>=1.5 in /Library/Developer/CommandLineTools/Library/Frameworks/Python3.framework/Versions/3.7/lib/python3.7/site-packages (from python-dateutil>=2.7.3->pandas) (1.12.0)\n",
      "Note: you may need to restart the kernel to use updated packages.\n"
     ]
    }
   ],
   "source": [
    "pip install pandas numpy matplotlib seaborn scikit-learn"
   ]
  }
 ],
 "metadata": {
  "kernelspec": {
   "display_name": "Python 3",
   "language": "python",
   "name": "python3"
  },
  "language_info": {
   "codemirror_mode": {
    "name": "ipython",
    "version": 3
   },
   "file_extension": ".py",
   "mimetype": "text/x-python",
   "name": "python",
   "nbconvert_exporter": "python",
   "pygments_lexer": "ipython3",
   "version": "3.7.3"
  },
  "orig_nbformat": 4
 },
 "nbformat": 4,
 "nbformat_minor": 2
}
